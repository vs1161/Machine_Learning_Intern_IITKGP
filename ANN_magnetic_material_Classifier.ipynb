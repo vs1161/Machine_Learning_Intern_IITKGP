{
 "cells": [
  {
   "cell_type": "code",
   "execution_count": 1,
   "id": "d344d56a",
   "metadata": {},
   "outputs": [],
   "source": [
    "# from ray tunning ---- ( 112, 85 , 29 , 1)    lr = 0.0027    batch size = 729 , weight decay = 0.001\n",
    "import pandas as pd \n",
    "import numpy as np \n",
    "import matplotlib.pyplot as plt \n",
    "%matplotlib inline "
   ]
  },
  {
   "cell_type": "code",
   "execution_count": 2,
   "id": "38adab5e",
   "metadata": {},
   "outputs": [
    {
     "data": {
      "text/plain": [
       "array([[6.15155225e+01, 1.77019550e+01, 3.01079624e+01, ...,\n",
       "        1.00000000e+00, 1.28690639e-01, 0.00000000e+00],\n",
       "       [7.61821667e+01, 7.08185000e+01, 4.39986178e+01, ...,\n",
       "        0.00000000e+00, 3.42387423e-02, 0.00000000e+00],\n",
       "       [1.37258302e+02, 6.25142100e+01, 5.68468823e+01, ...,\n",
       "        0.00000000e+00, 1.11126397e-03, 0.00000000e+00],\n",
       "       ...,\n",
       "       [3.11530198e+01, 4.75466000e+01, 1.06343137e+04, ...,\n",
       "        0.00000000e+00, 1.12969811e-05, 0.00000000e+00],\n",
       "       [5.32710857e+01, 1.05760600e+02, 1.06425212e+04, ...,\n",
       "        0.00000000e+00, 8.51221374e-04, 0.00000000e+00],\n",
       "       [7.23233429e+01, 1.92981000e+02, 1.06479002e+04, ...,\n",
       "        0.00000000e+00, 8.51217186e-04, 0.00000000e+00]])"
      ]
     },
     "execution_count": 2,
     "metadata": {},
     "output_type": "execute_result"
    }
   ],
   "source": [
    "df = pd.read_csv(\"/home/rs/21CS91R11/vikash/spin_Ai_data.csv\", header = None)\n",
    "df.drop([0],axis=1,inplace=True)\n",
    "df.drop([0],axis=0,inplace=True)\n",
    "Y = df[1].values\n",
    "X= df.drop([1],axis=1).values\n",
    "X"
   ]
  },
  {
   "cell_type": "code",
   "execution_count": 3,
   "id": "29f13956",
   "metadata": {},
   "outputs": [],
   "source": [
    "from sklearn.preprocessing import StandardScaler"
   ]
  },
  {
   "cell_type": "code",
   "execution_count": 4,
   "id": "255b4755",
   "metadata": {},
   "outputs": [
    {
     "data": {
      "text/plain": [
       "array([[-0.66335731, -1.73901176, -0.60379505, ...,  2.50973972,\n",
       "         0.38562249, -0.28951474],\n",
       "       [-0.32542269, -0.7083139 , -0.60099031, ..., -0.39844769,\n",
       "        -0.14287247, -0.28951474],\n",
       "       [ 1.0818345 , -0.86945416, -0.59839603, ..., -0.39844769,\n",
       "        -0.32823354, -0.28951474],\n",
       "       ...,\n",
       "       [-1.3629407 , -1.15989255,  1.53736555, ..., -0.39844769,\n",
       "        -0.33438828, -0.28951474],\n",
       "       [-0.85331764, -0.03028133,  1.53902277, ..., -0.39844769,\n",
       "        -0.32968858, -0.28951474],\n",
       "       [-0.41433398,  1.6621834 ,  1.54010887, ..., -0.39844769,\n",
       "        -0.32968861, -0.28951474]])"
      ]
     },
     "execution_count": 4,
     "metadata": {},
     "output_type": "execute_result"
    }
   ],
   "source": [
    "sc = StandardScaler()\n",
    "X = sc.fit_transform(X)\n",
    "X"
   ]
  },
  {
   "cell_type": "code",
   "execution_count": 5,
   "id": "5dc99b78",
   "metadata": {},
   "outputs": [],
   "source": [
    "from sklearn.model_selection import train_test_split"
   ]
  },
  {
   "cell_type": "code",
   "execution_count": 6,
   "id": "3f1e925d",
   "metadata": {},
   "outputs": [],
   "source": [
    "# creating the train , validation , test data set in df \n",
    "x_train,x_temp, y_train , y_temp = train_test_split(X,Y ,test_size= 0.2 , random_state = 42)\n",
    "x_test , x_val , y_test, y_val = train_test_split(x_temp , y_temp , test_size = 0.5 , random_state = 42)"
   ]
  },
  {
   "cell_type": "code",
   "execution_count": 7,
   "id": "f5c83762",
   "metadata": {},
   "outputs": [],
   "source": [
    "# creating dataset and data_loader from df we have \n",
    "from torch.utils.data import Dataset , DataLoader"
   ]
  },
  {
   "cell_type": "code",
   "execution_count": 8,
   "id": "d173c5d8",
   "metadata": {},
   "outputs": [],
   "source": [
    "import torch\n",
    "import torch.nn as nn \n",
    "import torch.nn.functional as F "
   ]
  },
  {
   "cell_type": "code",
   "execution_count": 9,
   "id": "0e13f08f",
   "metadata": {},
   "outputs": [],
   "source": [
    "# creating custom dataset class \n",
    "class custom_dataset(Dataset):\n",
    "    def __init__(self, inputs , targets):\n",
    "        self.inputs = torch.tensor(inputs , dtype = torch.float )\n",
    "        self.targets = torch.tensor(targets , dtype=torch.float)\n",
    "         \n",
    "    def __len__(self):\n",
    "        return len(self.inputs) \n",
    "    \n",
    "    def __getitem__(self,idx):\n",
    "        input_item = self.inputs[idx]\n",
    "        target_item = self.targets[idx]\n",
    "        return input_item , target_item"
   ]
  },
  {
   "cell_type": "code",
   "execution_count": 10,
   "id": "d651ecc8",
   "metadata": {},
   "outputs": [],
   "source": [
    "train_dataset = custom_dataset(x_train,y_train)\n",
    "val_dataset = custom_dataset(x_val,y_val)\n",
    "test_dataset = custom_dataset(x_test,y_test)"
   ]
  },
  {
   "cell_type": "code",
   "execution_count": 11,
   "id": "b60259a3",
   "metadata": {},
   "outputs": [],
   "source": [
    "# creating dataloader\n",
    "train_dataloader = DataLoader(train_dataset , batch_size = 729 , shuffle = True)\n",
    "val_dataloader = DataLoader(val_dataset, batch_size = 729 , shuffle = True)\n",
    "test_dataloader = DataLoader(test_dataset , batch_size = len(test_dataset) , shuffle = True )\n"
   ]
  },
  {
   "cell_type": "code",
   "execution_count": 12,
   "id": "410a7bd4",
   "metadata": {},
   "outputs": [],
   "source": [
    "# building the ANN model \n",
    "\n",
    "class ANN_model(nn.Module):\n",
    "    def __init__(self, input_features = 112 , hidden1 = 85 , hidden2=29 ,out_features=1):\n",
    "        super().__init__()\n",
    "        self.fc1 = nn.Linear(input_features,hidden1)\n",
    "        self.dropout1 = nn.Dropout(p=0.5)\n",
    "        self.fc2 = nn.Linear(hidden1, hidden2)\n",
    "        self.dropout2= nn.Dropout(p=0.5)\n",
    "        self.out = nn.Linear(hidden2,out_features)\n",
    "    \n",
    "    def forward(self,x):\n",
    "        x = F.relu(self.fc1(x))\n",
    "        x = self.dropout1(x)\n",
    "        x = F.relu(self.fc2(x))\n",
    "        x = self.dropout2(x)\n",
    "        x = self.out(x)\n",
    "        return torch.sigmoid(x)\n",
    "        "
   ]
  },
  {
   "cell_type": "code",
   "execution_count": 13,
   "id": "0f83ed47",
   "metadata": {},
   "outputs": [],
   "source": [
    "# instance of model \n",
    "model = ANN_model()"
   ]
  },
  {
   "cell_type": "code",
   "execution_count": 14,
   "id": "73157faa",
   "metadata": {},
   "outputs": [
    {
     "data": {
      "text/plain": [
       "<bound method Module.parameters of ANN_model(\n",
       "  (fc1): Linear(in_features=112, out_features=85, bias=True)\n",
       "  (dropout1): Dropout(p=0.5, inplace=False)\n",
       "  (fc2): Linear(in_features=85, out_features=29, bias=True)\n",
       "  (dropout2): Dropout(p=0.5, inplace=False)\n",
       "  (out): Linear(in_features=29, out_features=1, bias=True)\n",
       ")>"
      ]
     },
     "execution_count": 14,
     "metadata": {},
     "output_type": "execute_result"
    }
   ],
   "source": [
    "model.parameters"
   ]
  },
  {
   "cell_type": "code",
   "execution_count": 15,
   "id": "01b03a1f",
   "metadata": {},
   "outputs": [],
   "source": [
    "# instantiating the weights \n",
    "torch.manual_seed(20)\n",
    "loss_function = nn.BCELoss()\n",
    "optimizer = torch.optim.Adam(model.parameters() , lr = 0.0027, weight_decay=0.001)"
   ]
  },
  {
   "cell_type": "code",
   "execution_count": 16,
   "id": "235e677f",
   "metadata": {},
   "outputs": [
    {
     "name": "stderr",
     "output_type": "stream",
     "text": [
      "/home/rs/21CS91R11/anaconda3/envs/envpytorch3/lib/python3.7/site-packages/torch/nn/modules/loss.py:516: UserWarning: Using a target size (torch.Size([729])) that is different to the input size (torch.Size([729, 1])) is deprecated. Please ensure they have the same size.\n",
      "  return F.binary_cross_entropy(input, target, weight=self.weight, reduction=self.reduction)\n",
      "/home/rs/21CS91R11/anaconda3/envs/envpytorch3/lib/python3.7/site-packages/torch/nn/modules/loss.py:516: UserWarning: Using a target size (torch.Size([208])) that is different to the input size (torch.Size([208, 1])) is deprecated. Please ensure they have the same size.\n",
      "  return F.binary_cross_entropy(input, target, weight=self.weight, reduction=self.reduction)\n",
      "/home/rs/21CS91R11/anaconda3/envs/envpytorch3/lib/python3.7/site-packages/torch/nn/modules/loss.py:516: UserWarning: Using a target size (torch.Size([300])) that is different to the input size (torch.Size([300, 1])) is deprecated. Please ensure they have the same size.\n",
      "  return F.binary_cross_entropy(input, target, weight=self.weight, reduction=self.reduction)\n"
     ]
    },
    {
     "name": "stdout",
     "output_type": "stream",
     "text": [
      "epoch is 1 , train_loss is 0.6335383993069167 , val_loss is 0.49961499604817383\n",
      "epoch is 101 , train_loss is 0.21594267888500665 , val_loss is 0.2580747790308805\n",
      "epoch is 201 , train_loss is 0.18919007584291428 , val_loss is 0.25361087727129633\n",
      "epoch is 301 , train_loss is 0.1759580166357697 , val_loss is 0.26369666714362433\n",
      "epoch is 401 , train_loss is 0.1697573365827689 , val_loss is 0.26614343798542855\n"
     ]
    }
   ],
   "source": [
    "# training the model \n",
    "epochs = 500\n",
    "train_lossess = []\n",
    "val_lossess = []\n",
    "for epoch in range(epochs):\n",
    "    epoch = epoch +1 \n",
    "    # training the model \n",
    "    model.train()\n",
    "    train_loss = 0.0 \n",
    "    total_train_sample_size = len(train_dataset)\n",
    "    for x_train , y_train in train_dataloader:\n",
    "        output = model.forward(x_train)\n",
    "        loss = loss_function(output, y_train)\n",
    "        batchsize = x_train.size(0)\n",
    "        train_loss =train_loss+ (loss.item()*batchsize)\n",
    "        optimizer.zero_grad()\n",
    "        loss.backward()\n",
    "        optimizer.step()\n",
    "    #averaging the loss of each epoch \n",
    "    avg_train_loss = train_loss/total_train_sample_size \n",
    "    train_lossess.append(avg_train_loss)\n",
    "    \n",
    "    # validating the model \n",
    "    \n",
    "    model.eval()\n",
    "    val_loss = 0.0\n",
    "    total_val_sample_size = len(val_dataset)\n",
    "    with torch.no_grad():\n",
    "         for x_val , y_val in val_dataloader:\n",
    "                output = model(x_val)\n",
    "                batchsize = x_val.size(0)\n",
    "                loss = loss_function(output,y_val)\n",
    "                val_loss = val_loss + (loss.item()*batchsize)\n",
    "    # averaging the validation loss of each epoch \n",
    "    avg_val_loss = val_loss/total_val_sample_size\n",
    "    if epoch%100 == 1 :\n",
    "        print('epoch is {} , train_loss is {} , val_loss is {}'.format(epoch, avg_train_loss , avg_val_loss))\n",
    "    val_lossess.append(avg_val_loss) "
   ]
  },
  {
   "cell_type": "code",
   "execution_count": 17,
   "id": "fee2c696",
   "metadata": {},
   "outputs": [
    {
     "data": {
      "text/plain": [
       "Text(0, 0.5, 'losses')"
      ]
     },
     "execution_count": 17,
     "metadata": {},
     "output_type": "execute_result"
    },
    {
     "data": {
      "image/png": "[encoded data removed]",
      "text/plain": [
       "<Figure size 640x480 with 1 Axes>"
      ]
     },
     "metadata": {},
     "output_type": "display_data"
    }
   ],
   "source": [
    "plt.plot(range(epochs), train_lossess , 'r' , label = 'train_loss')\n",
    "plt.plot(range(epochs), val_lossess , 'g' , label = 'val_loss')\n",
    "plt.legend()\n",
    "plt.xlabel('epochs') \n",
    "plt.ylabel('losses')"
   ]
  },
  {
   "cell_type": "code",
   "execution_count": 18,
   "id": "e501ed9d",
   "metadata": {},
   "outputs": [
    {
     "name": "stdout",
     "output_type": "stream",
     "text": [
      "[0. 0. 0. ... 1. 0. 0.]\n"
     ]
    }
   ],
   "source": [
    "# prediction on test dataset \n",
    "predictions =[]\n",
    "with torch.no_grad():\n",
    "    for x_test , y_test in test_dataloader:\n",
    "        output = model(x_test)\n",
    "        y_pred = torch.round(output).squeeze(1).numpy()\n",
    "        print(y_pred) \n",
    "        "
   ]
  },
  {
   "cell_type": "code",
   "execution_count": 19,
   "id": "a3e1d9f4",
   "metadata": {},
   "outputs": [],
   "source": [
    "y_test_check = y_test.numpy()"
   ]
  },
  {
   "cell_type": "code",
   "execution_count": 20,
   "id": "99348920",
   "metadata": {},
   "outputs": [],
   "source": [
    "from sklearn.metrics import confusion_matrix, classification_report , accuracy_score"
   ]
  },
  {
   "cell_type": "code",
   "execution_count": 21,
   "id": "4af487ed",
   "metadata": {},
   "outputs": [
    {
     "name": "stdout",
     "output_type": "stream",
     "text": [
      "0.9114785992217899\n",
      "[[0.68385214 0.03501946]\n",
      " [0.05350195 0.22762646]]\n",
      "              precision    recall  f1-score   support\n",
      "\n",
      "         0.0       0.93      0.95      0.94       739\n",
      "         1.0       0.87      0.81      0.84       289\n",
      "\n",
      "    accuracy                           0.91      1028\n",
      "   macro avg       0.90      0.88      0.89      1028\n",
      "weighted avg       0.91      0.91      0.91      1028\n",
      "\n"
     ]
    }
   ],
   "source": [
    "print(accuracy_score(y_test_check,y_pred))\n",
    "print(confusion_matrix(y_test_check,y_pred , normalize = 'all'))\n",
    "print(classification_report(y_test_check,y_pred))   "
   ]
  },
  {
   "cell_type": "code",
   "execution_count": 22,
   "id": "23f3390c",
   "metadata": {},
   "outputs": [
    {
     "data": {
      "text/plain": [
       "<sklearn.metrics._plot.confusion_matrix.ConfusionMatrixDisplay at 0x7fc7cd290f60>"
      ]
     },
     "execution_count": 22,
     "metadata": {},
     "output_type": "execute_result"
    },
    {
     "data": {
      "image/png": "[encoded data removed]",
      "text/plain": [
       "<Figure size 640x480 with 2 Axes>"
      ]
     },
     "metadata": {},
     "output_type": "display_data"
    }
   ],
   "source": [
    "from sklearn.metrics import ConfusionMatrixDisplay\n",
    "#ConfusionMatrixDisplay.from_predictions( y_test, y_pred,normalize='all')\n",
    "#plt.show()\n",
    "\n",
    "cm = confusion_matrix(y_test_check,y_pred, normalize = 'all')\n",
    "disp = ConfusionMatrixDisplay(confusion_matrix=cm)\n",
    "disp.plot() "
   ]
  },
  {
   "cell_type": "code",
   "execution_count": 23,
   "id": "cea50f68",
   "metadata": {},
   "outputs": [],
   "source": [
    "predictions = []\n",
    "y_test_list = []\n",
    "model.eval()\n",
    "for i in range(len(test_dataset)):\n",
    "    input_item , target_item = test_dataset[i]\n",
    "    output = model(input_item)\n",
    "    y_pred = output.item()\n",
    "    y_pred = 1 if y_pred>=0.5 else 0\n",
    "    predictions.append(y_pred)\n",
    "    y_test_list.append(int(target_item.item()))"
   ]
  },
  {
   "cell_type": "code",
   "execution_count": 24,
   "id": "de616bc4",
   "metadata": {},
   "outputs": [
    {
     "data": {
      "text/plain": [
       "0.9114785992217899"
      ]
     },
     "execution_count": 24,
     "metadata": {},
     "output_type": "execute_result"
    }
   ],
   "source": [
    "accuracy_score(predictions,y_test_list)\n",
    "    "
   ]
  },
  {
   "cell_type": "code",
   "execution_count": 25,
   "id": "c207449c",
   "metadata": {},
   "outputs": [],
   "source": [
    "dfxx = pd.DataFrame(predictions)"
   ]
  },
  {
   "cell_type": "code",
   "execution_count": 26,
   "id": "540e6e5d",
   "metadata": {},
   "outputs": [],
   "source": [
    "dfxx2 = pd.DataFrame(y_test_list)"
   ]
  },
  {
   "cell_type": "code",
   "execution_count": 27,
   "id": "d95bb3d6",
   "metadata": {},
   "outputs": [],
   "source": [
    "dfxx['y_test'] = dfxx2[0]"
   ]
  },
  {
   "cell_type": "code",
   "execution_count": 28,
   "id": "3b02af81",
   "metadata": {},
   "outputs": [
    {
     "data": {
      "text/html": [
       "<div>\n",
       "<style scoped>\n",
       "    .dataframe tbody tr th:only-of-type {\n",
       "        vertical-align: middle;\n",
       "    }\n",
       "\n",
       "    .dataframe tbody tr th {\n",
       "        vertical-align: top;\n",
       "    }\n",
       "\n",
       "    .dataframe thead th {\n",
       "        text-align: right;\n",
       "    }\n",
       "</style>\n",
       "<table border=\"1\" class=\"dataframe\">\n",
       "  <thead>\n",
       "    <tr style=\"text-align: right;\">\n",
       "      <th></th>\n",
       "      <th>0</th>\n",
       "      <th>y_test</th>\n",
       "    </tr>\n",
       "  </thead>\n",
       "  <tbody>\n",
       "    <tr>\n",
       "      <th>0</th>\n",
       "      <td>1</td>\n",
       "      <td>1</td>\n",
       "    </tr>\n",
       "    <tr>\n",
       "      <th>1</th>\n",
       "      <td>0</td>\n",
       "      <td>0</td>\n",
       "    </tr>\n",
       "    <tr>\n",
       "      <th>2</th>\n",
       "      <td>0</td>\n",
       "      <td>0</td>\n",
       "    </tr>\n",
       "    <tr>\n",
       "      <th>3</th>\n",
       "      <td>1</td>\n",
       "      <td>1</td>\n",
       "    </tr>\n",
       "    <tr>\n",
       "      <th>4</th>\n",
       "      <td>0</td>\n",
       "      <td>0</td>\n",
       "    </tr>\n",
       "    <tr>\n",
       "      <th>5</th>\n",
       "      <td>0</td>\n",
       "      <td>0</td>\n",
       "    </tr>\n",
       "    <tr>\n",
       "      <th>6</th>\n",
       "      <td>0</td>\n",
       "      <td>0</td>\n",
       "    </tr>\n",
       "    <tr>\n",
       "      <th>7</th>\n",
       "      <td>0</td>\n",
       "      <td>0</td>\n",
       "    </tr>\n",
       "    <tr>\n",
       "      <th>8</th>\n",
       "      <td>0</td>\n",
       "      <td>0</td>\n",
       "    </tr>\n",
       "    <tr>\n",
       "      <th>9</th>\n",
       "      <td>0</td>\n",
       "      <td>0</td>\n",
       "    </tr>\n",
       "    <tr>\n",
       "      <th>10</th>\n",
       "      <td>0</td>\n",
       "      <td>0</td>\n",
       "    </tr>\n",
       "    <tr>\n",
       "      <th>11</th>\n",
       "      <td>1</td>\n",
       "      <td>1</td>\n",
       "    </tr>\n",
       "    <tr>\n",
       "      <th>12</th>\n",
       "      <td>0</td>\n",
       "      <td>1</td>\n",
       "    </tr>\n",
       "    <tr>\n",
       "      <th>13</th>\n",
       "      <td>0</td>\n",
       "      <td>0</td>\n",
       "    </tr>\n",
       "    <tr>\n",
       "      <th>14</th>\n",
       "      <td>1</td>\n",
       "      <td>1</td>\n",
       "    </tr>\n",
       "    <tr>\n",
       "      <th>15</th>\n",
       "      <td>0</td>\n",
       "      <td>0</td>\n",
       "    </tr>\n",
       "    <tr>\n",
       "      <th>16</th>\n",
       "      <td>0</td>\n",
       "      <td>0</td>\n",
       "    </tr>\n",
       "    <tr>\n",
       "      <th>17</th>\n",
       "      <td>0</td>\n",
       "      <td>0</td>\n",
       "    </tr>\n",
       "    <tr>\n",
       "      <th>18</th>\n",
       "      <td>0</td>\n",
       "      <td>0</td>\n",
       "    </tr>\n",
       "    <tr>\n",
       "      <th>19</th>\n",
       "      <td>0</td>\n",
       "      <td>0</td>\n",
       "    </tr>\n",
       "    <tr>\n",
       "      <th>20</th>\n",
       "      <td>0</td>\n",
       "      <td>0</td>\n",
       "    </tr>\n",
       "    <tr>\n",
       "      <th>21</th>\n",
       "      <td>1</td>\n",
       "      <td>0</td>\n",
       "    </tr>\n",
       "    <tr>\n",
       "      <th>22</th>\n",
       "      <td>1</td>\n",
       "      <td>1</td>\n",
       "    </tr>\n",
       "    <tr>\n",
       "      <th>23</th>\n",
       "      <td>0</td>\n",
       "      <td>0</td>\n",
       "    </tr>\n",
       "    <tr>\n",
       "      <th>24</th>\n",
       "      <td>0</td>\n",
       "      <td>0</td>\n",
       "    </tr>\n",
       "    <tr>\n",
       "      <th>25</th>\n",
       "      <td>0</td>\n",
       "      <td>0</td>\n",
       "    </tr>\n",
       "    <tr>\n",
       "      <th>26</th>\n",
       "      <td>1</td>\n",
       "      <td>1</td>\n",
       "    </tr>\n",
       "    <tr>\n",
       "      <th>27</th>\n",
       "      <td>0</td>\n",
       "      <td>0</td>\n",
       "    </tr>\n",
       "    <tr>\n",
       "      <th>28</th>\n",
       "      <td>0</td>\n",
       "      <td>0</td>\n",
       "    </tr>\n",
       "    <tr>\n",
       "      <th>29</th>\n",
       "      <td>1</td>\n",
       "      <td>1</td>\n",
       "    </tr>\n",
       "    <tr>\n",
       "      <th>...</th>\n",
       "      <td>...</td>\n",
       "      <td>...</td>\n",
       "    </tr>\n",
       "    <tr>\n",
       "      <th>998</th>\n",
       "      <td>0</td>\n",
       "      <td>0</td>\n",
       "    </tr>\n",
       "    <tr>\n",
       "      <th>999</th>\n",
       "      <td>0</td>\n",
       "      <td>0</td>\n",
       "    </tr>\n",
       "    <tr>\n",
       "      <th>1000</th>\n",
       "      <td>1</td>\n",
       "      <td>1</td>\n",
       "    </tr>\n",
       "    <tr>\n",
       "      <th>1001</th>\n",
       "      <td>0</td>\n",
       "      <td>0</td>\n",
       "    </tr>\n",
       "    <tr>\n",
       "      <th>1002</th>\n",
       "      <td>0</td>\n",
       "      <td>0</td>\n",
       "    </tr>\n",
       "    <tr>\n",
       "      <th>1003</th>\n",
       "      <td>0</td>\n",
       "      <td>0</td>\n",
       "    </tr>\n",
       "    <tr>\n",
       "      <th>1004</th>\n",
       "      <td>1</td>\n",
       "      <td>1</td>\n",
       "    </tr>\n",
       "    <tr>\n",
       "      <th>1005</th>\n",
       "      <td>1</td>\n",
       "      <td>0</td>\n",
       "    </tr>\n",
       "    <tr>\n",
       "      <th>1006</th>\n",
       "      <td>0</td>\n",
       "      <td>0</td>\n",
       "    </tr>\n",
       "    <tr>\n",
       "      <th>1007</th>\n",
       "      <td>1</td>\n",
       "      <td>0</td>\n",
       "    </tr>\n",
       "    <tr>\n",
       "      <th>1008</th>\n",
       "      <td>1</td>\n",
       "      <td>1</td>\n",
       "    </tr>\n",
       "    <tr>\n",
       "      <th>1009</th>\n",
       "      <td>0</td>\n",
       "      <td>0</td>\n",
       "    </tr>\n",
       "    <tr>\n",
       "      <th>1010</th>\n",
       "      <td>0</td>\n",
       "      <td>0</td>\n",
       "    </tr>\n",
       "    <tr>\n",
       "      <th>1011</th>\n",
       "      <td>0</td>\n",
       "      <td>0</td>\n",
       "    </tr>\n",
       "    <tr>\n",
       "      <th>1012</th>\n",
       "      <td>0</td>\n",
       "      <td>0</td>\n",
       "    </tr>\n",
       "    <tr>\n",
       "      <th>1013</th>\n",
       "      <td>0</td>\n",
       "      <td>0</td>\n",
       "    </tr>\n",
       "    <tr>\n",
       "      <th>1014</th>\n",
       "      <td>0</td>\n",
       "      <td>0</td>\n",
       "    </tr>\n",
       "    <tr>\n",
       "      <th>1015</th>\n",
       "      <td>0</td>\n",
       "      <td>0</td>\n",
       "    </tr>\n",
       "    <tr>\n",
       "      <th>1016</th>\n",
       "      <td>1</td>\n",
       "      <td>1</td>\n",
       "    </tr>\n",
       "    <tr>\n",
       "      <th>1017</th>\n",
       "      <td>0</td>\n",
       "      <td>0</td>\n",
       "    </tr>\n",
       "    <tr>\n",
       "      <th>1018</th>\n",
       "      <td>0</td>\n",
       "      <td>0</td>\n",
       "    </tr>\n",
       "    <tr>\n",
       "      <th>1019</th>\n",
       "      <td>0</td>\n",
       "      <td>0</td>\n",
       "    </tr>\n",
       "    <tr>\n",
       "      <th>1020</th>\n",
       "      <td>0</td>\n",
       "      <td>0</td>\n",
       "    </tr>\n",
       "    <tr>\n",
       "      <th>1021</th>\n",
       "      <td>1</td>\n",
       "      <td>1</td>\n",
       "    </tr>\n",
       "    <tr>\n",
       "      <th>1022</th>\n",
       "      <td>0</td>\n",
       "      <td>0</td>\n",
       "    </tr>\n",
       "    <tr>\n",
       "      <th>1023</th>\n",
       "      <td>0</td>\n",
       "      <td>0</td>\n",
       "    </tr>\n",
       "    <tr>\n",
       "      <th>1024</th>\n",
       "      <td>1</td>\n",
       "      <td>1</td>\n",
       "    </tr>\n",
       "    <tr>\n",
       "      <th>1025</th>\n",
       "      <td>1</td>\n",
       "      <td>1</td>\n",
       "    </tr>\n",
       "    <tr>\n",
       "      <th>1026</th>\n",
       "      <td>1</td>\n",
       "      <td>1</td>\n",
       "    </tr>\n",
       "    <tr>\n",
       "      <th>1027</th>\n",
       "      <td>0</td>\n",
       "      <td>0</td>\n",
       "    </tr>\n",
       "  </tbody>\n",
       "</table>\n",
       "<p>1028 rows × 2 columns</p>\n",
       "</div>"
      ],
      "text/plain": [
       "      0  y_test\n",
       "0     1       1\n",
       "1     0       0\n",
       "2     0       0\n",
       "3     1       1\n",
       "4     0       0\n",
       "5     0       0\n",
       "6     0       0\n",
       "7     0       0\n",
       "8     0       0\n",
       "9     0       0\n",
       "10    0       0\n",
       "11    1       1\n",
       "12    0       1\n",
       "13    0       0\n",
       "14    1       1\n",
       "15    0       0\n",
       "16    0       0\n",
       "17    0       0\n",
       "18    0       0\n",
       "19    0       0\n",
       "20    0       0\n",
       "21    1       0\n",
       "22    1       1\n",
       "23    0       0\n",
       "24    0       0\n",
       "25    0       0\n",
       "26    1       1\n",
       "27    0       0\n",
       "28    0       0\n",
       "29    1       1\n",
       "...  ..     ...\n",
       "998   0       0\n",
       "999   0       0\n",
       "1000  1       1\n",
       "1001  0       0\n",
       "1002  0       0\n",
       "1003  0       0\n",
       "1004  1       1\n",
       "1005  1       0\n",
       "1006  0       0\n",
       "1007  1       0\n",
       "1008  1       1\n",
       "1009  0       0\n",
       "1010  0       0\n",
       "1011  0       0\n",
       "1012  0       0\n",
       "1013  0       0\n",
       "1014  0       0\n",
       "1015  0       0\n",
       "1016  1       1\n",
       "1017  0       0\n",
       "1018  0       0\n",
       "1019  0       0\n",
       "1020  0       0\n",
       "1021  1       1\n",
       "1022  0       0\n",
       "1023  0       0\n",
       "1024  1       1\n",
       "1025  1       1\n",
       "1026  1       1\n",
       "1027  0       0\n",
       "\n",
       "[1028 rows x 2 columns]"
      ]
     },
     "execution_count": 28,
     "metadata": {},
     "output_type": "execute_result"
    }
   ],
   "source": [
    "dfxx"
   ]
  },
  {
   "cell_type": "code",
   "execution_count": null,
   "id": "da1c7673",
   "metadata": {},
   "outputs": [],
   "source": []
  }
 ],
 "metadata": {
  "kernelspec": {
   "display_name": "Python 3 (ipykernel)",
   "language": "python",
   "name": "python3"
  },
  "language_info": {
   "codemirror_mode": {
    "name": "ipython",
    "version": 3
   },
   "file_extension": ".py",
   "mimetype": "text/x-python",
   "name": "python",
   "nbconvert_exporter": "python",
   "pygments_lexer": "ipython3",
   "version": "3.7.3"
  }
 },
 "nbformat": 4,
 "nbformat_minor": 5
}
